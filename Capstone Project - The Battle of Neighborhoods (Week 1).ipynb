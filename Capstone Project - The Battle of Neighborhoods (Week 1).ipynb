{
 "cells": [
  {
   "cell_type": "markdown",
   "metadata": {},
   "source": [
    "**The Battle of the Neighborhoods - Week 1**"
   ]
  },
  {
   "cell_type": "markdown",
   "metadata": {},
   "source": [
    "__Introduction & Business Problem__"
   ]
  },
  {
   "cell_type": "markdown",
   "metadata": {},
   "source": [
    "Imagine the company \"Butterscotch Pancakes\" from Russia. It is a chain of restaurants of Russian cuisine, specialized in Pancakes with different toppings. A CEO of a company has a dream - to enter a US market. In a cold winter of 2019 he decided to pursuit his dream! To open a restaurant one need to choose a city, populated enough for a restaurant to succeed. Our CEO has chosen New York, because of big population of ex-soviet and Russian Immigrants.\n",
    "\n",
    "The food market in NY is highly competitive. So there has to be a thorough analysis of business environment to form a strategy. This will help to reduce the risk of restaurant failure.\n",
    "\n",
    "Our goal is to find an optimal location for the Restaurant."
   ]
  },
  {
   "cell_type": "markdown",
   "metadata": {},
   "source": [
    "There is a huge variety of food on the streets of New York:\n",
    "- Fast food (hot dogs, bagels, ice cream, burgers etc.)\n",
    "- Italian restaurants\n",
    "- Asian restaurants (Thai, Chinese, Indian etc.)\n",
    "- Coffee shops\n",
    "- Middle Eastern restaurants.\n",
    "\n",
    "Various factors need to be studied in order to decide on the Location such as :\n",
    "\n",
    "- New York Population\n",
    "- New York City Demographics\n",
    "- Sources of ingredients\n",
    "- Popular attractions nearby\n",
    "- Competitors\n",
    "- Segmentation of neighborhoods (Boroughs)\n",
    "and so on...\n"
   ]
  },
  {
   "cell_type": "markdown",
   "metadata": {},
   "source": [
    "The objective of this project is to deliver a recommendation of which neighborhood of NY will be the best choice to build the restaurant.\n",
    "\n",
    "This project can be used by anyone who looking forward of opening a restaurant in any city."
   ]
  },
  {
   "cell_type": "markdown",
   "metadata": {},
   "source": [
    "**Data**"
   ]
  },
  {
   "cell_type": "markdown",
   "metadata": {},
   "source": [
    "1 - New York City Neighborhood names (https://geo.nyu.edu/catalog/nyu_2451_34572)\n",
    "\n",
    "2 - The list of farmers market of NY (https://data.cityofnewyork.us/dataset/DOHMH-Farmers-Markets/8vwk-6iz2)\n",
    "\n",
    "3 - Location data of Fresh food box. Fresh Food Box Program is a food access initiative that enables under-served communities to purchase fresh, healthy, and primarily regionally grown produce well below traditional retail prices (https://www.grownyc.org/greenmarketco/foodbox)\n",
    "\n",
    "4 - Wikipedia (data on population, economy, demographics, cuisine etc.)\n",
    "\n",
    "5 - Foursquare API."
   ]
  }
 ],
 "metadata": {
  "kernelspec": {
   "display_name": "Python",
   "language": "python",
   "name": "conda-env-python-py"
  },
  "language_info": {
   "codemirror_mode": {
    "name": "ipython",
    "version": 3
   },
   "file_extension": ".py",
   "mimetype": "text/x-python",
   "name": "python",
   "nbconvert_exporter": "python",
   "pygments_lexer": "ipython3",
   "version": "3.6.7"
  }
 },
 "nbformat": 4,
 "nbformat_minor": 4
}
