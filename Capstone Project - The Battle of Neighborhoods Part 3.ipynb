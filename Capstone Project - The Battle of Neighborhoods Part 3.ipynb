{
 "cells": [
  {
   "cell_type": "markdown",
   "metadata": {},
   "source": [
    "**Capstone Project - The Battle of Neighborhoods Part 3**\n",
    "\n",
    "\n",
    "Now we will analyze a variety of cuisines in New York city and its distribution via different boroughs."
   ]
  },
  {
   "cell_type": "code",
   "execution_count": 1,
   "metadata": {},
   "outputs": [
    {
     "name": "stdout",
     "output_type": "stream",
     "text": [
      "Solving environment: done\n",
      "\n",
      "\n",
      "==> WARNING: A newer version of conda exists. <==\n",
      "  current version: 4.5.11\n",
      "  latest version: 4.7.12\n",
      "\n",
      "Please update conda by running\n",
      "\n",
      "    $ conda update -n base -c defaults conda\n",
      "\n",
      "\n",
      "\n",
      "## Package Plan ##\n",
      "\n",
      "  environment location: /home/jupyterlab/conda/envs/python\n",
      "\n",
      "  added / updated specs: \n",
      "    - wordcloud==1.4.1\n",
      "\n",
      "\n",
      "The following packages will be downloaded:\n",
      "\n",
      "    package                    |            build\n",
      "    ---------------------------|-----------------\n",
      "    scikit-learn-0.20.1        |   py36h22eb022_0         5.7 MB\n",
      "    certifi-2019.11.28         |           py36_0         149 KB  conda-forge\n",
      "    liblapack-3.8.0            |      11_openblas          10 KB  conda-forge\n",
      "    scipy-1.3.2                |   py36h921218d_0        18.0 MB  conda-forge\n",
      "    libopenblas-0.3.6          |       h5a2b251_2         7.7 MB\n",
      "    liblapacke-3.8.0           |      11_openblas          10 KB  conda-forge\n",
      "    numpy-1.17.3               |   py36h95a1406_0         5.2 MB  conda-forge\n",
      "    libcblas-3.8.0             |      11_openblas          10 KB  conda-forge\n",
      "    libblas-3.8.0              |      11_openblas          10 KB  conda-forge\n",
      "    blas-2.11                  |         openblas          10 KB  conda-forge\n",
      "    wordcloud-1.4.1            |           py36_0         324 KB  conda-forge\n",
      "    ------------------------------------------------------------\n",
      "                                           Total:        37.2 MB\n",
      "\n",
      "The following NEW packages will be INSTALLED:\n",
      "\n",
      "    libblas:      3.8.0-11_openblas                      conda-forge\n",
      "    libcblas:     3.8.0-11_openblas                      conda-forge\n",
      "    liblapack:    3.8.0-11_openblas                      conda-forge\n",
      "    liblapacke:   3.8.0-11_openblas                      conda-forge\n",
      "    libopenblas:  0.3.6-h5a2b251_2                                  \n",
      "    wordcloud:    1.4.1-py36_0                           conda-forge\n",
      "\n",
      "The following packages will be UPDATED:\n",
      "\n",
      "    blas:         1.1-openblas                           conda-forge --> 2.11-openblas         conda-forge\n",
      "    certifi:      2019.9.11-py36_0                       conda-forge --> 2019.11.28-py36_0     conda-forge\n",
      "    numpy:        1.16.2-py36_blas_openblash1522bff_0    conda-forge [blas_openblas] --> 1.17.3-py36h95a1406_0 conda-forge\n",
      "    scipy:        1.2.1-py36_blas_openblash1522bff_0     conda-forge [blas_openblas] --> 1.3.2-py36h921218d_0  conda-forge\n",
      "\n",
      "The following packages will be DOWNGRADED:\n",
      "\n",
      "    scikit-learn: 0.20.1-py36_blas_openblashebff5e3_1200 conda-forge [blas_openblas] --> 0.20.1-py36h22eb022_0            \n",
      "\n",
      "\n",
      "Downloading and Extracting Packages\n",
      "scikit-learn-0.20.1  | 5.7 MB    | ##################################### | 100% \n",
      "certifi-2019.11.28   | 149 KB    | ##################################### | 100% \n",
      "liblapack-3.8.0      | 10 KB     | ##################################### | 100% \n",
      "scipy-1.3.2          | 18.0 MB   | ##################################### | 100% \n",
      "libopenblas-0.3.6    | 7.7 MB    | ##################################### | 100% \n",
      "liblapacke-3.8.0     | 10 KB     | ##################################### | 100% \n",
      "numpy-1.17.3         | 5.2 MB    | ##################################### | 100% \n",
      "libcblas-3.8.0       | 10 KB     | ##################################### | 100% \n",
      "libblas-3.8.0        | 10 KB     | ##################################### | 100% \n",
      "blas-2.11            | 10 KB     | ##################################### | 100% \n",
      "wordcloud-1.4.1      | 324 KB    | ##################################### | 100% \n",
      "Preparing transaction: done\n",
      "Verifying transaction: done\n",
      "Executing transaction: done\n",
      "Everything is ok\n"
     ]
    }
   ],
   "source": [
    "import numpy as np \n",
    "import pandas as pd \n",
    "from PIL import Image # converting images to arrays\n",
    "\n",
    "%matplotlib inline\n",
    "\n",
    "import matplotlib as mpl\n",
    "import matplotlib.pyplot as plt\n",
    "\n",
    "mpl.style.use('ggplot')\n",
    "\n",
    "# install wordcloud\n",
    "!conda install -c conda-forge wordcloud==1.4.1 --yes\n",
    "\n",
    "# import package and its set of stopwords\n",
    "from wordcloud import WordCloud, STOPWORDS\n",
    "\n",
    "print ('Everything is ok')"
   ]
  },
  {
   "cell_type": "markdown",
   "metadata": {},
   "source": [
    "The data on NY Cuisine is extracted from the wikipedia Page - https://en.wikipedia.org/wiki/Cuisine_of_New_York_City and placed in NYC_CUISINE Excel file."
   ]
  },
  {
   "cell_type": "code",
   "execution_count": 4,
   "metadata": {},
   "outputs": [
    {
     "name": "stdout",
     "output_type": "stream",
     "text": [
      "Collecting xlrd\n",
      "\u001b[?25l  Downloading https://files.pythonhosted.org/packages/b0/16/63576a1a001752e34bf8ea62e367997530dc553b689356b9879339cf45a4/xlrd-1.2.0-py2.py3-none-any.whl (103kB)\n",
      "\u001b[K     |████████████████████████████████| 112kB 31.1MB/s eta 0:00:01\n",
      "\u001b[?25hInstalling collected packages: xlrd\n",
      "Successfully installed xlrd-1.2.0\n",
      "Note: you may need to restart the kernel to use updated packages.\n"
     ]
    }
   ],
   "source": [
    "pip install xlrd"
   ]
  },
  {
   "cell_type": "code",
   "execution_count": 6,
   "metadata": {},
   "outputs": [],
   "source": [
    "Food = pd.read_excel (r'NYC_CUISINE.xlsx')"
   ]
  },
  {
   "cell_type": "code",
   "execution_count": 7,
   "metadata": {},
   "outputs": [
    {
     "data": {
      "text/plain": [
       "(57, 4)"
      ]
     },
     "execution_count": 7,
     "metadata": {},
     "output_type": "execute_result"
    }
   ],
   "source": [
    "Food.shape"
   ]
  },
  {
   "cell_type": "code",
   "execution_count": 8,
   "metadata": {},
   "outputs": [
    {
     "name": "stdout",
     "output_type": "stream",
     "text": [
      "['The Bronx' 'Queens' 'Brooklyn' 'Staten Island' 'Manhattan']\n"
     ]
    }
   ],
   "source": [
    "print(Food.Borough.unique())"
   ]
  },
  {
   "cell_type": "code",
   "execution_count": 9,
   "metadata": {},
   "outputs": [
    {
     "data": {
      "text/html": [
       "<div>\n",
       "<style scoped>\n",
       "    .dataframe tbody tr th:only-of-type {\n",
       "        vertical-align: middle;\n",
       "    }\n",
       "\n",
       "    .dataframe tbody tr th {\n",
       "        vertical-align: top;\n",
       "    }\n",
       "\n",
       "    .dataframe thead th {\n",
       "        text-align: right;\n",
       "    }\n",
       "</style>\n",
       "<table border=\"1\" class=\"dataframe\">\n",
       "  <thead>\n",
       "    <tr style=\"text-align: right;\">\n",
       "      <th></th>\n",
       "      <th>Borough</th>\n",
       "    </tr>\n",
       "  </thead>\n",
       "  <tbody>\n",
       "    <tr>\n",
       "      <th>Brooklyn</th>\n",
       "      <td>19</td>\n",
       "    </tr>\n",
       "    <tr>\n",
       "      <th>Queens</th>\n",
       "      <td>13</td>\n",
       "    </tr>\n",
       "    <tr>\n",
       "      <th>Manhattan</th>\n",
       "      <td>13</td>\n",
       "    </tr>\n",
       "    <tr>\n",
       "      <th>The Bronx</th>\n",
       "      <td>9</td>\n",
       "    </tr>\n",
       "    <tr>\n",
       "      <th>Staten Island</th>\n",
       "      <td>3</td>\n",
       "    </tr>\n",
       "  </tbody>\n",
       "</table>\n",
       "</div>"
      ],
      "text/plain": [
       "               Borough\n",
       "Brooklyn            19\n",
       "Queens              13\n",
       "Manhattan           13\n",
       "The Bronx            9\n",
       "Staten Island        3"
      ]
     },
     "execution_count": 9,
     "metadata": {},
     "output_type": "execute_result"
    }
   ],
   "source": [
    "Food['Borough'].value_counts().to_frame()"
   ]
  },
  {
   "cell_type": "markdown",
   "metadata": {},
   "source": [
    "**Word cloud**"
   ]
  },
  {
   "cell_type": "code",
   "execution_count": 10,
   "metadata": {},
   "outputs": [
    {
     "data": {
      "text/html": [
       "<div>\n",
       "<style scoped>\n",
       "    .dataframe tbody tr th:only-of-type {\n",
       "        vertical-align: middle;\n",
       "    }\n",
       "\n",
       "    .dataframe tbody tr th {\n",
       "        vertical-align: top;\n",
       "    }\n",
       "\n",
       "    .dataframe thead th {\n",
       "        text-align: right;\n",
       "    }\n",
       "</style>\n",
       "<table border=\"1\" class=\"dataframe\">\n",
       "  <thead>\n",
       "    <tr style=\"text-align: right;\">\n",
       "      <th></th>\n",
       "      <th>Cuisine</th>\n",
       "    </tr>\n",
       "  </thead>\n",
       "  <tbody>\n",
       "    <tr>\n",
       "      <th>0</th>\n",
       "      <td>Mexican, Puerto Rican, Dominican, Korean</td>\n",
       "    </tr>\n",
       "    <tr>\n",
       "      <th>1</th>\n",
       "      <td>Italian, Albanian</td>\n",
       "    </tr>\n",
       "    <tr>\n",
       "      <th>2</th>\n",
       "      <td>Italian, Seafood</td>\n",
       "    </tr>\n",
       "    <tr>\n",
       "      <th>3</th>\n",
       "      <td>Italian, Albanian</td>\n",
       "    </tr>\n",
       "    <tr>\n",
       "      <th>4</th>\n",
       "      <td>Filipino</td>\n",
       "    </tr>\n",
       "    <tr>\n",
       "      <th>5</th>\n",
       "      <td>Jewish</td>\n",
       "    </tr>\n",
       "    <tr>\n",
       "      <th>6</th>\n",
       "      <td>Puerto Rican, Dominican</td>\n",
       "    </tr>\n",
       "    <tr>\n",
       "      <th>7</th>\n",
       "      <td>Jamaican, West Indian</td>\n",
       "    </tr>\n",
       "    <tr>\n",
       "      <th>8</th>\n",
       "      <td>Irish</td>\n",
       "    </tr>\n",
       "    <tr>\n",
       "      <th>9</th>\n",
       "      <td>Greek, Italian, Eastern European, Brazilian, E...</td>\n",
       "    </tr>\n",
       "    <tr>\n",
       "      <th>10</th>\n",
       "      <td>Indian, Pakistani</td>\n",
       "    </tr>\n",
       "    <tr>\n",
       "      <th>11</th>\n",
       "      <td>Chinese, Korean</td>\n",
       "    </tr>\n",
       "    <tr>\n",
       "      <th>12</th>\n",
       "      <td>Jewish, Russian, Uzbek</td>\n",
       "    </tr>\n",
       "    <tr>\n",
       "      <th>13</th>\n",
       "      <td>Italian</td>\n",
       "    </tr>\n",
       "    <tr>\n",
       "      <th>14</th>\n",
       "      <td>German, Polish</td>\n",
       "    </tr>\n",
       "    <tr>\n",
       "      <th>15</th>\n",
       "      <td>Indian, Pakistani, Bangladeshi, Colombian, Ecu...</td>\n",
       "    </tr>\n",
       "    <tr>\n",
       "      <th>16</th>\n",
       "      <td>Bangladeshi, Caribbean, African-American, Afri...</td>\n",
       "    </tr>\n",
       "    <tr>\n",
       "      <th>17</th>\n",
       "      <td>Arab, Chinese, Italian</td>\n",
       "    </tr>\n",
       "    <tr>\n",
       "      <th>18</th>\n",
       "      <td>Indian, Guyanese, West Indian, Pakistani, Bang...</td>\n",
       "    </tr>\n",
       "    <tr>\n",
       "      <th>19</th>\n",
       "      <td>Irish, Jewish</td>\n",
       "    </tr>\n",
       "    <tr>\n",
       "      <th>20</th>\n",
       "      <td>Irish, Dominican, Mexican, Guyanese</td>\n",
       "    </tr>\n",
       "    <tr>\n",
       "      <th>21</th>\n",
       "      <td>Filipino, Irish, Mexican, Tibetan, Romanian</td>\n",
       "    </tr>\n",
       "    <tr>\n",
       "      <th>22</th>\n",
       "      <td>Irish, Italian, Greek, Turkish, Lebanese, Pale...</td>\n",
       "    </tr>\n",
       "    <tr>\n",
       "      <th>23</th>\n",
       "      <td>African-American, Jamaican, Trinidadian, Puert...</td>\n",
       "    </tr>\n",
       "    <tr>\n",
       "      <th>24</th>\n",
       "      <td>Italian, Chinese, Turkish, Russian, Mexican, U...</td>\n",
       "    </tr>\n",
       "    <tr>\n",
       "      <th>25</th>\n",
       "      <td>Jewish, Italian, Mexican, Chinese</td>\n",
       "    </tr>\n",
       "    <tr>\n",
       "      <th>26</th>\n",
       "      <td>Russian, Georgian, Turkish, Pakistani, Ukrainian</td>\n",
       "    </tr>\n",
       "    <tr>\n",
       "      <th>27</th>\n",
       "      <td>Puerto Rican, Mexican, Dominican, Ecuadorian</td>\n",
       "    </tr>\n",
       "    <tr>\n",
       "      <th>28</th>\n",
       "      <td>Jamaican, West Indian, African-American</td>\n",
       "    </tr>\n",
       "    <tr>\n",
       "      <th>29</th>\n",
       "      <td>Italian</td>\n",
       "    </tr>\n",
       "    <tr>\n",
       "      <th>30</th>\n",
       "      <td>Jamaican, West Indian, Jewish</td>\n",
       "    </tr>\n",
       "    <tr>\n",
       "      <th>31</th>\n",
       "      <td>African-American, Dominican, Puerto Rican</td>\n",
       "    </tr>\n",
       "    <tr>\n",
       "      <th>32</th>\n",
       "      <td>Jamaican, Haitian, Creole</td>\n",
       "    </tr>\n",
       "    <tr>\n",
       "      <th>33</th>\n",
       "      <td>Polish, Ukrainian</td>\n",
       "    </tr>\n",
       "    <tr>\n",
       "      <th>34</th>\n",
       "      <td>Bengali, Pakistani, Mexican, Uzbek, Polish</td>\n",
       "    </tr>\n",
       "    <tr>\n",
       "      <th>35</th>\n",
       "      <td>Jewish, Italian, Russian, Pakistani</td>\n",
       "    </tr>\n",
       "    <tr>\n",
       "      <th>36</th>\n",
       "      <td>Italian, Irish, French</td>\n",
       "    </tr>\n",
       "    <tr>\n",
       "      <th>37</th>\n",
       "      <td>Puerto Rican, African-American,  Italian</td>\n",
       "    </tr>\n",
       "    <tr>\n",
       "      <th>38</th>\n",
       "      <td>Seafood, Chinese, Russian, Italian</td>\n",
       "    </tr>\n",
       "    <tr>\n",
       "      <th>39</th>\n",
       "      <td>Puerto Rican, Chinese, Arab, Mexican, Italian</td>\n",
       "    </tr>\n",
       "    <tr>\n",
       "      <th>40</th>\n",
       "      <td>Italian, Jewish, Dominican, Puerto Rican</td>\n",
       "    </tr>\n",
       "    <tr>\n",
       "      <th>41</th>\n",
       "      <td>Mexican, Indian, Italian</td>\n",
       "    </tr>\n",
       "    <tr>\n",
       "      <th>42</th>\n",
       "      <td>Italian, Russian, Arab, Polish</td>\n",
       "    </tr>\n",
       "    <tr>\n",
       "      <th>43</th>\n",
       "      <td>Italian, Sri Lankan, Pakistani, Indian</td>\n",
       "    </tr>\n",
       "    <tr>\n",
       "      <th>44</th>\n",
       "      <td>Chinese, Vietnamese</td>\n",
       "    </tr>\n",
       "    <tr>\n",
       "      <th>45</th>\n",
       "      <td>Puerto Rican, Mexican, Dominican, Chinese-Cuba...</td>\n",
       "    </tr>\n",
       "    <tr>\n",
       "      <th>46</th>\n",
       "      <td>Japanese, Korean, Indian, Ukrainian</td>\n",
       "    </tr>\n",
       "    <tr>\n",
       "      <th>47</th>\n",
       "      <td>Italian, Middle Eastern</td>\n",
       "    </tr>\n",
       "    <tr>\n",
       "      <th>48</th>\n",
       "      <td>Italian, African-American, Latin American, Wes...</td>\n",
       "    </tr>\n",
       "    <tr>\n",
       "      <th>49</th>\n",
       "      <td>Korean</td>\n",
       "    </tr>\n",
       "    <tr>\n",
       "      <th>50</th>\n",
       "      <td>Australian</td>\n",
       "    </tr>\n",
       "    <tr>\n",
       "      <th>51</th>\n",
       "      <td>Italian</td>\n",
       "    </tr>\n",
       "    <tr>\n",
       "      <th>52</th>\n",
       "      <td>Puerto Rican, Jewish, Italian, Latin American</td>\n",
       "    </tr>\n",
       "    <tr>\n",
       "      <th>53</th>\n",
       "      <td>Indian, Pakistani, Bangladeshi</td>\n",
       "    </tr>\n",
       "    <tr>\n",
       "      <th>54</th>\n",
       "      <td>Jewish, Chinese-Latino</td>\n",
       "    </tr>\n",
       "    <tr>\n",
       "      <th>55</th>\n",
       "      <td>Dominican, Puerto Rican, Italian, Jewish</td>\n",
       "    </tr>\n",
       "    <tr>\n",
       "      <th>56</th>\n",
       "      <td>German, Czech, Hungarian</td>\n",
       "    </tr>\n",
       "  </tbody>\n",
       "</table>\n",
       "</div>"
      ],
      "text/plain": [
       "                                              Cuisine\n",
       "0            Mexican, Puerto Rican, Dominican, Korean\n",
       "1                                   Italian, Albanian\n",
       "2                                    Italian, Seafood\n",
       "3                                   Italian, Albanian\n",
       "4                                           Filipino \n",
       "5                                              Jewish\n",
       "6                             Puerto Rican, Dominican\n",
       "7                               Jamaican, West Indian\n",
       "8                                               Irish\n",
       "9   Greek, Italian, Eastern European, Brazilian, E...\n",
       "10                                  Indian, Pakistani\n",
       "11                                    Chinese, Korean\n",
       "12                             Jewish, Russian, Uzbek\n",
       "13                                            Italian\n",
       "14                                     German, Polish\n",
       "15  Indian, Pakistani, Bangladeshi, Colombian, Ecu...\n",
       "16  Bangladeshi, Caribbean, African-American, Afri...\n",
       "17                             Arab, Chinese, Italian\n",
       "18  Indian, Guyanese, West Indian, Pakistani, Bang...\n",
       "19                                      Irish, Jewish\n",
       "20                Irish, Dominican, Mexican, Guyanese\n",
       "21        Filipino, Irish, Mexican, Tibetan, Romanian\n",
       "22  Irish, Italian, Greek, Turkish, Lebanese, Pale...\n",
       "23  African-American, Jamaican, Trinidadian, Puert...\n",
       "24  Italian, Chinese, Turkish, Russian, Mexican, U...\n",
       "25                  Jewish, Italian, Mexican, Chinese\n",
       "26   Russian, Georgian, Turkish, Pakistani, Ukrainian\n",
       "27       Puerto Rican, Mexican, Dominican, Ecuadorian\n",
       "28            Jamaican, West Indian, African-American\n",
       "29                                            Italian\n",
       "30                      Jamaican, West Indian, Jewish\n",
       "31          African-American, Dominican, Puerto Rican\n",
       "32                          Jamaican, Haitian, Creole\n",
       "33                                  Polish, Ukrainian\n",
       "34         Bengali, Pakistani, Mexican, Uzbek, Polish\n",
       "35                Jewish, Italian, Russian, Pakistani\n",
       "36                             Italian, Irish, French\n",
       "37           Puerto Rican, African-American,  Italian\n",
       "38                 Seafood, Chinese, Russian, Italian\n",
       "39      Puerto Rican, Chinese, Arab, Mexican, Italian\n",
       "40           Italian, Jewish, Dominican, Puerto Rican\n",
       "41                           Mexican, Indian, Italian\n",
       "42                     Italian, Russian, Arab, Polish\n",
       "43             Italian, Sri Lankan, Pakistani, Indian\n",
       "44                                Chinese, Vietnamese\n",
       "45  Puerto Rican, Mexican, Dominican, Chinese-Cuba...\n",
       "46                Japanese, Korean, Indian, Ukrainian\n",
       "47                            Italian, Middle Eastern\n",
       "48  Italian, African-American, Latin American, Wes...\n",
       "49                                             Korean\n",
       "50                                         Australian\n",
       "51                                            Italian\n",
       "52      Puerto Rican, Jewish, Italian, Latin American\n",
       "53                     Indian, Pakistani, Bangladeshi\n",
       "54                             Jewish, Chinese-Latino\n",
       "55           Dominican, Puerto Rican, Italian, Jewish\n",
       "56                           German, Czech, Hungarian"
      ]
     },
     "execution_count": 10,
     "metadata": {},
     "output_type": "execute_result"
    }
   ],
   "source": [
    "CUISINE_WC = Food[['Cuisine']]\n",
    "CUISINE_WC"
   ]
  },
  {
   "cell_type": "code",
   "execution_count": 19,
   "metadata": {},
   "outputs": [],
   "source": [
    "CUISINE_WC.to_csv('Food.txt', sep=',', index=False)"
   ]
  },
  {
   "cell_type": "code",
   "execution_count": 20,
   "metadata": {},
   "outputs": [],
   "source": [
    "Food1 = open('Food.txt', 'r').read()"
   ]
  },
  {
   "cell_type": "markdown",
   "metadata": {},
   "source": [
    "Use the stopwords that we imported from word_cloud. We use the function set to remove any redundant stopwords."
   ]
  },
  {
   "cell_type": "code",
   "execution_count": 21,
   "metadata": {},
   "outputs": [],
   "source": [
    "stopwords = set(STOPWORDS)"
   ]
  },
  {
   "cell_type": "code",
   "execution_count": 22,
   "metadata": {},
   "outputs": [
    {
     "data": {
      "text/plain": [
       "<wordcloud.wordcloud.WordCloud at 0x7f6cb1b090f0>"
      ]
     },
     "execution_count": 22,
     "metadata": {},
     "output_type": "execute_result"
    }
   ],
   "source": [
    "# start a word cloud object\n",
    "NYC_CUISINE_WC = WordCloud(\n",
    "    background_color='white',\n",
    "    max_words=2000,\n",
    "    stopwords=stopwords\n",
    ")\n",
    "\n",
    "# generate the word cloud\n",
    "NYC_CUISINE_WC.generate(Food1)"
   ]
  },
  {
   "cell_type": "code",
   "execution_count": 23,
   "metadata": {},
   "outputs": [
    {
     "data": {
      "image/png": "[encoded data removed]",
      "text/plain": [
       "<Figure size 432x288 with 1 Axes>"
      ]
     },
     "metadata": {
      "needs_background": "light"
     },
     "output_type": "display_data"
    },
    {
     "data": {
      "text/plain": [
       "<Figure size 2160x3240 with 0 Axes>"
      ]
     },
     "metadata": {},
     "output_type": "display_data"
    }
   ],
   "source": [
    "# Visual of the word cloud\n",
    "plt.imshow(NYC_CUISINE_WC, interpolation='bilinear')\n",
    "plt.axis('off')\n",
    "\n",
    "fig = plt.figure()\n",
    "fig.set_figwidth(30)\n",
    "fig.set_figheight(45)\n",
    "\n",
    "plt.show()"
   ]
  },
  {
   "cell_type": "markdown",
   "metadata": {},
   "source": [
    "**Let's create a word cloud of Brooklyn cuisine**"
   ]
  },
  {
   "cell_type": "code",
   "execution_count": 24,
   "metadata": {},
   "outputs": [
    {
     "data": {
      "text/html": [
       "<div>\n",
       "<style scoped>\n",
       "    .dataframe tbody tr th:only-of-type {\n",
       "        vertical-align: middle;\n",
       "    }\n",
       "\n",
       "    .dataframe tbody tr th {\n",
       "        vertical-align: top;\n",
       "    }\n",
       "\n",
       "    .dataframe thead th {\n",
       "        text-align: right;\n",
       "    }\n",
       "</style>\n",
       "<table border=\"1\" class=\"dataframe\">\n",
       "  <thead>\n",
       "    <tr style=\"text-align: right;\">\n",
       "      <th></th>\n",
       "      <th>Unnamed: 0</th>\n",
       "      <th>Borough</th>\n",
       "      <th>Neighborhood</th>\n",
       "      <th>Cuisine</th>\n",
       "    </tr>\n",
       "  </thead>\n",
       "  <tbody>\n",
       "    <tr>\n",
       "      <th>0</th>\n",
       "      <td>22</td>\n",
       "      <td>Brooklyn</td>\n",
       "      <td>Bay Ridge</td>\n",
       "      <td>Irish, Italian, Greek, Turkish, Lebanese, Pale...</td>\n",
       "    </tr>\n",
       "    <tr>\n",
       "      <th>1</th>\n",
       "      <td>23</td>\n",
       "      <td>Brooklyn</td>\n",
       "      <td>Bedford-Stuyvesant</td>\n",
       "      <td>African-American, Jamaican, Trinidadian, Puert...</td>\n",
       "    </tr>\n",
       "    <tr>\n",
       "      <th>2</th>\n",
       "      <td>24</td>\n",
       "      <td>Brooklyn</td>\n",
       "      <td>Bensonhurst</td>\n",
       "      <td>Italian, Chinese, Turkish, Russian, Mexican, U...</td>\n",
       "    </tr>\n",
       "    <tr>\n",
       "      <th>3</th>\n",
       "      <td>25</td>\n",
       "      <td>Brooklyn</td>\n",
       "      <td>Borough Park</td>\n",
       "      <td>Jewish, Italian, Mexican, Chinese</td>\n",
       "    </tr>\n",
       "    <tr>\n",
       "      <th>4</th>\n",
       "      <td>26</td>\n",
       "      <td>Brooklyn</td>\n",
       "      <td>Brighton Beach</td>\n",
       "      <td>Russian, Georgian, Turkish, Pakistani, Ukrainian</td>\n",
       "    </tr>\n",
       "  </tbody>\n",
       "</table>\n",
       "</div>"
      ],
      "text/plain": [
       "   Unnamed: 0   Borough         Neighborhood  \\\n",
       "0          22  Brooklyn            Bay Ridge   \n",
       "1          23  Brooklyn  Bedford-Stuyvesant    \n",
       "2          24  Brooklyn          Bensonhurst   \n",
       "3          25  Brooklyn         Borough Park   \n",
       "4          26  Brooklyn       Brighton Beach   \n",
       "\n",
       "                                             Cuisine  \n",
       "0  Irish, Italian, Greek, Turkish, Lebanese, Pale...  \n",
       "1  African-American, Jamaican, Trinidadian, Puert...  \n",
       "2  Italian, Chinese, Turkish, Russian, Mexican, U...  \n",
       "3                  Jewish, Italian, Mexican, Chinese  \n",
       "4   Russian, Georgian, Turkish, Pakistani, Ukrainian  "
      ]
     },
     "execution_count": 24,
     "metadata": {},
     "output_type": "execute_result"
    }
   ],
   "source": [
    "Brooklyn_data = Food[Food['Borough'] == 'Brooklyn'].reset_index(drop=True)\n",
    "Brooklyn_data.head()"
   ]
  },
  {
   "cell_type": "code",
   "execution_count": 37,
   "metadata": {},
   "outputs": [
    {
     "data": {
      "text/html": [
       "<div>\n",
       "<style scoped>\n",
       "    .dataframe tbody tr th:only-of-type {\n",
       "        vertical-align: middle;\n",
       "    }\n",
       "\n",
       "    .dataframe tbody tr th {\n",
       "        vertical-align: top;\n",
       "    }\n",
       "\n",
       "    .dataframe thead th {\n",
       "        text-align: right;\n",
       "    }\n",
       "</style>\n",
       "<table border=\"1\" class=\"dataframe\">\n",
       "  <thead>\n",
       "    <tr style=\"text-align: right;\">\n",
       "      <th></th>\n",
       "      <th>Borough</th>\n",
       "      <th>Neighborhood</th>\n",
       "      <th>Cuisine</th>\n",
       "    </tr>\n",
       "  </thead>\n",
       "  <tbody>\n",
       "    <tr>\n",
       "      <th>0</th>\n",
       "      <td>Brooklyn</td>\n",
       "      <td>Bay Ridge</td>\n",
       "      <td>Irish, Italian, Greek, Turkish, Lebanese, Pale...</td>\n",
       "    </tr>\n",
       "    <tr>\n",
       "      <th>1</th>\n",
       "      <td>Brooklyn</td>\n",
       "      <td>Bedford-Stuyvesant</td>\n",
       "      <td>African-American, Jamaican, Trinidadian, Puert...</td>\n",
       "    </tr>\n",
       "    <tr>\n",
       "      <th>2</th>\n",
       "      <td>Brooklyn</td>\n",
       "      <td>Bensonhurst</td>\n",
       "      <td>Italian, Chinese, Turkish, Russian, Mexican, U...</td>\n",
       "    </tr>\n",
       "    <tr>\n",
       "      <th>3</th>\n",
       "      <td>Brooklyn</td>\n",
       "      <td>Borough Park</td>\n",
       "      <td>Jewish, Italian, Mexican, Chinese</td>\n",
       "    </tr>\n",
       "    <tr>\n",
       "      <th>4</th>\n",
       "      <td>Brooklyn</td>\n",
       "      <td>Brighton Beach</td>\n",
       "      <td>Russian, Georgian, Turkish, Pakistani, Ukrainian</td>\n",
       "    </tr>\n",
       "    <tr>\n",
       "      <th>5</th>\n",
       "      <td>Brooklyn</td>\n",
       "      <td>Bushwick</td>\n",
       "      <td>Puerto Rican, Mexican, Dominican, Ecuadorian</td>\n",
       "    </tr>\n",
       "    <tr>\n",
       "      <th>6</th>\n",
       "      <td>Brooklyn</td>\n",
       "      <td>Canarsie</td>\n",
       "      <td>Jamaican, West Indian, African-American</td>\n",
       "    </tr>\n",
       "    <tr>\n",
       "      <th>7</th>\n",
       "      <td>Brooklyn</td>\n",
       "      <td>Carroll Gardens</td>\n",
       "      <td>Italian</td>\n",
       "    </tr>\n",
       "    <tr>\n",
       "      <th>8</th>\n",
       "      <td>Brooklyn</td>\n",
       "      <td>Crown Heights</td>\n",
       "      <td>Jamaican, West Indian, Jewish</td>\n",
       "    </tr>\n",
       "    <tr>\n",
       "      <th>9</th>\n",
       "      <td>Brooklyn</td>\n",
       "      <td>East New York</td>\n",
       "      <td>African-American, Dominican, Puerto Rican</td>\n",
       "    </tr>\n",
       "    <tr>\n",
       "      <th>10</th>\n",
       "      <td>Brooklyn</td>\n",
       "      <td>Flatbush</td>\n",
       "      <td>Jamaican, Haitian, Creole</td>\n",
       "    </tr>\n",
       "    <tr>\n",
       "      <th>11</th>\n",
       "      <td>Brooklyn</td>\n",
       "      <td>Greenpoint</td>\n",
       "      <td>Polish, Ukrainian</td>\n",
       "    </tr>\n",
       "    <tr>\n",
       "      <th>12</th>\n",
       "      <td>Brooklyn</td>\n",
       "      <td>Kensington</td>\n",
       "      <td>Bengali, Pakistani, Mexican, Uzbek, Polish</td>\n",
       "    </tr>\n",
       "    <tr>\n",
       "      <th>13</th>\n",
       "      <td>Brooklyn</td>\n",
       "      <td>Midwood</td>\n",
       "      <td>Jewish, Italian, Russian, Pakistani</td>\n",
       "    </tr>\n",
       "    <tr>\n",
       "      <th>14</th>\n",
       "      <td>Brooklyn</td>\n",
       "      <td>Park Slope</td>\n",
       "      <td>Italian, Irish, French</td>\n",
       "    </tr>\n",
       "    <tr>\n",
       "      <th>15</th>\n",
       "      <td>Brooklyn</td>\n",
       "      <td>Red Hook</td>\n",
       "      <td>Puerto Rican, African-American,  Italian</td>\n",
       "    </tr>\n",
       "    <tr>\n",
       "      <th>16</th>\n",
       "      <td>Brooklyn</td>\n",
       "      <td>Sheepshead Bay</td>\n",
       "      <td>Seafood, Chinese, Russian, Italian</td>\n",
       "    </tr>\n",
       "    <tr>\n",
       "      <th>17</th>\n",
       "      <td>Brooklyn</td>\n",
       "      <td>Sunset Park</td>\n",
       "      <td>Puerto Rican, Chinese, Arab, Mexican, Italian</td>\n",
       "    </tr>\n",
       "    <tr>\n",
       "      <th>18</th>\n",
       "      <td>Brooklyn</td>\n",
       "      <td>Williamsburg</td>\n",
       "      <td>Italian, Jewish, Dominican, Puerto Rican</td>\n",
       "    </tr>\n",
       "  </tbody>\n",
       "</table>\n",
       "</div>"
      ],
      "text/plain": [
       "     Borough         Neighborhood  \\\n",
       "0   Brooklyn            Bay Ridge   \n",
       "1   Brooklyn  Bedford-Stuyvesant    \n",
       "2   Brooklyn          Bensonhurst   \n",
       "3   Brooklyn         Borough Park   \n",
       "4   Brooklyn       Brighton Beach   \n",
       "5   Brooklyn             Bushwick   \n",
       "6   Brooklyn             Canarsie   \n",
       "7   Brooklyn      Carroll Gardens   \n",
       "8   Brooklyn        Crown Heights   \n",
       "9   Brooklyn        East New York   \n",
       "10  Brooklyn             Flatbush   \n",
       "11  Brooklyn           Greenpoint   \n",
       "12  Brooklyn           Kensington   \n",
       "13  Brooklyn              Midwood   \n",
       "14  Brooklyn           Park Slope   \n",
       "15  Brooklyn             Red Hook   \n",
       "16  Brooklyn       Sheepshead Bay   \n",
       "17  Brooklyn          Sunset Park   \n",
       "18  Brooklyn         Williamsburg   \n",
       "\n",
       "                                              Cuisine  \n",
       "0   Irish, Italian, Greek, Turkish, Lebanese, Pale...  \n",
       "1   African-American, Jamaican, Trinidadian, Puert...  \n",
       "2   Italian, Chinese, Turkish, Russian, Mexican, U...  \n",
       "3                   Jewish, Italian, Mexican, Chinese  \n",
       "4    Russian, Georgian, Turkish, Pakistani, Ukrainian  \n",
       "5        Puerto Rican, Mexican, Dominican, Ecuadorian  \n",
       "6             Jamaican, West Indian, African-American  \n",
       "7                                             Italian  \n",
       "8                       Jamaican, West Indian, Jewish  \n",
       "9           African-American, Dominican, Puerto Rican  \n",
       "10                          Jamaican, Haitian, Creole  \n",
       "11                                  Polish, Ukrainian  \n",
       "12         Bengali, Pakistani, Mexican, Uzbek, Polish  \n",
       "13                Jewish, Italian, Russian, Pakistani  \n",
       "14                             Italian, Irish, French  \n",
       "15           Puerto Rican, African-American,  Italian  \n",
       "16                 Seafood, Chinese, Russian, Italian  \n",
       "17      Puerto Rican, Chinese, Arab, Mexican, Italian  \n",
       "18           Italian, Jewish, Dominican, Puerto Rican  "
      ]
     },
     "execution_count": 37,
     "metadata": {},
     "output_type": "execute_result"
    }
   ],
   "source": [
    "Brooklyn_data"
   ]
  },
  {
   "cell_type": "code",
   "execution_count": 38,
   "metadata": {},
   "outputs": [
    {
     "data": {
      "text/html": [
       "<div>\n",
       "<style scoped>\n",
       "    .dataframe tbody tr th:only-of-type {\n",
       "        vertical-align: middle;\n",
       "    }\n",
       "\n",
       "    .dataframe tbody tr th {\n",
       "        vertical-align: top;\n",
       "    }\n",
       "\n",
       "    .dataframe thead th {\n",
       "        text-align: right;\n",
       "    }\n",
       "</style>\n",
       "<table border=\"1\" class=\"dataframe\">\n",
       "  <thead>\n",
       "    <tr style=\"text-align: right;\">\n",
       "      <th></th>\n",
       "      <th>Cuisine</th>\n",
       "    </tr>\n",
       "  </thead>\n",
       "  <tbody>\n",
       "    <tr>\n",
       "      <th>0</th>\n",
       "      <td>Irish, Italian, Greek, Turkish, Lebanese, Pale...</td>\n",
       "    </tr>\n",
       "    <tr>\n",
       "      <th>1</th>\n",
       "      <td>African-American, Jamaican, Trinidadian, Puert...</td>\n",
       "    </tr>\n",
       "    <tr>\n",
       "      <th>2</th>\n",
       "      <td>Italian, Chinese, Turkish, Russian, Mexican, U...</td>\n",
       "    </tr>\n",
       "    <tr>\n",
       "      <th>3</th>\n",
       "      <td>Jewish, Italian, Mexican, Chinese</td>\n",
       "    </tr>\n",
       "    <tr>\n",
       "      <th>4</th>\n",
       "      <td>Russian, Georgian, Turkish, Pakistani, Ukrainian</td>\n",
       "    </tr>\n",
       "    <tr>\n",
       "      <th>5</th>\n",
       "      <td>Puerto Rican, Mexican, Dominican, Ecuadorian</td>\n",
       "    </tr>\n",
       "    <tr>\n",
       "      <th>6</th>\n",
       "      <td>Jamaican, West Indian, African-American</td>\n",
       "    </tr>\n",
       "    <tr>\n",
       "      <th>7</th>\n",
       "      <td>Italian</td>\n",
       "    </tr>\n",
       "    <tr>\n",
       "      <th>8</th>\n",
       "      <td>Jamaican, West Indian, Jewish</td>\n",
       "    </tr>\n",
       "    <tr>\n",
       "      <th>9</th>\n",
       "      <td>African-American, Dominican, Puerto Rican</td>\n",
       "    </tr>\n",
       "    <tr>\n",
       "      <th>10</th>\n",
       "      <td>Jamaican, Haitian, Creole</td>\n",
       "    </tr>\n",
       "    <tr>\n",
       "      <th>11</th>\n",
       "      <td>Polish, Ukrainian</td>\n",
       "    </tr>\n",
       "    <tr>\n",
       "      <th>12</th>\n",
       "      <td>Bengali, Pakistani, Mexican, Uzbek, Polish</td>\n",
       "    </tr>\n",
       "    <tr>\n",
       "      <th>13</th>\n",
       "      <td>Jewish, Italian, Russian, Pakistani</td>\n",
       "    </tr>\n",
       "    <tr>\n",
       "      <th>14</th>\n",
       "      <td>Italian, Irish, French</td>\n",
       "    </tr>\n",
       "    <tr>\n",
       "      <th>15</th>\n",
       "      <td>Puerto Rican, African-American,  Italian</td>\n",
       "    </tr>\n",
       "    <tr>\n",
       "      <th>16</th>\n",
       "      <td>Seafood, Chinese, Russian, Italian</td>\n",
       "    </tr>\n",
       "    <tr>\n",
       "      <th>17</th>\n",
       "      <td>Puerto Rican, Chinese, Arab, Mexican, Italian</td>\n",
       "    </tr>\n",
       "    <tr>\n",
       "      <th>18</th>\n",
       "      <td>Italian, Jewish, Dominican, Puerto Rican</td>\n",
       "    </tr>\n",
       "  </tbody>\n",
       "</table>\n",
       "</div>"
      ],
      "text/plain": [
       "                                              Cuisine\n",
       "0   Irish, Italian, Greek, Turkish, Lebanese, Pale...\n",
       "1   African-American, Jamaican, Trinidadian, Puert...\n",
       "2   Italian, Chinese, Turkish, Russian, Mexican, U...\n",
       "3                   Jewish, Italian, Mexican, Chinese\n",
       "4    Russian, Georgian, Turkish, Pakistani, Ukrainian\n",
       "5        Puerto Rican, Mexican, Dominican, Ecuadorian\n",
       "6             Jamaican, West Indian, African-American\n",
       "7                                             Italian\n",
       "8                       Jamaican, West Indian, Jewish\n",
       "9           African-American, Dominican, Puerto Rican\n",
       "10                          Jamaican, Haitian, Creole\n",
       "11                                  Polish, Ukrainian\n",
       "12         Bengali, Pakistani, Mexican, Uzbek, Polish\n",
       "13                Jewish, Italian, Russian, Pakistani\n",
       "14                             Italian, Irish, French\n",
       "15           Puerto Rican, African-American,  Italian\n",
       "16                 Seafood, Chinese, Russian, Italian\n",
       "17      Puerto Rican, Chinese, Arab, Mexican, Italian\n",
       "18           Italian, Jewish, Dominican, Puerto Rican"
      ]
     },
     "execution_count": 38,
     "metadata": {},
     "output_type": "execute_result"
    }
   ],
   "source": [
    "BR_CUISINE_WC = Brooklyn_data[['Cuisine']]\n",
    "BR_CUISINE_WC"
   ]
  },
  {
   "cell_type": "code",
   "execution_count": 39,
   "metadata": {},
   "outputs": [],
   "source": [
    "BR_CUISINE_WC.to_csv('BR_CUISINE.txt', sep=',', index=False)"
   ]
  },
  {
   "cell_type": "code",
   "execution_count": 40,
   "metadata": {},
   "outputs": [],
   "source": [
    "BR_CUISINE_WC = open('BR_CUISINE.txt', 'r').read()"
   ]
  },
  {
   "cell_type": "code",
   "execution_count": 41,
   "metadata": {},
   "outputs": [],
   "source": [
    "stopwords = set(STOPWORDS)"
   ]
  },
  {
   "cell_type": "code",
   "execution_count": 42,
   "metadata": {},
   "outputs": [
    {
     "data": {
      "text/plain": [
       "<wordcloud.wordcloud.WordCloud at 0x7f6cb1b0add8>"
      ]
     },
     "execution_count": 42,
     "metadata": {},
     "output_type": "execute_result"
    }
   ],
   "source": [
    "# start a word cloud object\n",
    "BR_CUISINE_NYC = WordCloud(\n",
    "    background_color='white',\n",
    "    max_words=2000,\n",
    "    stopwords=stopwords\n",
    ")\n",
    "\n",
    "# generate the word cloud\n",
    "BR_CUISINE_NYC.generate(BR_CUISINE_WC)"
   ]
  },
  {
   "cell_type": "code",
   "execution_count": 43,
   "metadata": {},
   "outputs": [
    {
     "data": {
      "image/png": "[encoded data removed]",
      "text/plain": [
       "<Figure size 432x288 with 1 Axes>"
      ]
     },
     "metadata": {
      "needs_background": "light"
     },
     "output_type": "display_data"
    },
    {
     "data": {
      "text/plain": [
       "<Figure size 2160x3240 with 0 Axes>"
      ]
     },
     "metadata": {},
     "output_type": "display_data"
    }
   ],
   "source": [
    "# display the word cloud\n",
    "plt.imshow(BR_CUISINE_NYC, interpolation='bilinear')\n",
    "plt.axis('off')\n",
    "\n",
    "fig = plt.figure()\n",
    "fig.set_figwidth(30)\n",
    "fig.set_figheight(45)\n",
    "\n",
    "plt.show()"
   ]
  },
  {
   "cell_type": "markdown",
   "metadata": {},
   "source": [
    "**Let's create a word cloud of Queens cuisine**"
   ]
  },
  {
   "cell_type": "code",
   "execution_count": 45,
   "metadata": {},
   "outputs": [
    {
     "data": {
      "text/html": [
       "<div>\n",
       "<style scoped>\n",
       "    .dataframe tbody tr th:only-of-type {\n",
       "        vertical-align: middle;\n",
       "    }\n",
       "\n",
       "    .dataframe tbody tr th {\n",
       "        vertical-align: top;\n",
       "    }\n",
       "\n",
       "    .dataframe thead th {\n",
       "        text-align: right;\n",
       "    }\n",
       "</style>\n",
       "<table border=\"1\" class=\"dataframe\">\n",
       "  <thead>\n",
       "    <tr style=\"text-align: right;\">\n",
       "      <th></th>\n",
       "      <th>Borough</th>\n",
       "      <th>Neighborhood</th>\n",
       "      <th>Cuisine</th>\n",
       "    </tr>\n",
       "  </thead>\n",
       "  <tbody>\n",
       "    <tr>\n",
       "      <th>0</th>\n",
       "      <td>Queens</td>\n",
       "      <td>Astoria</td>\n",
       "      <td>Greek, Italian, Eastern European, Brazilian, E...</td>\n",
       "    </tr>\n",
       "    <tr>\n",
       "      <th>1</th>\n",
       "      <td>Queens</td>\n",
       "      <td>Bellerose</td>\n",
       "      <td>Indian, Pakistani</td>\n",
       "    </tr>\n",
       "    <tr>\n",
       "      <th>2</th>\n",
       "      <td>Queens</td>\n",
       "      <td>Flushing</td>\n",
       "      <td>Chinese, Korean</td>\n",
       "    </tr>\n",
       "    <tr>\n",
       "      <th>3</th>\n",
       "      <td>Queens</td>\n",
       "      <td>Forest Hills; Kew Gardens Hills; Rego Park</td>\n",
       "      <td>Jewish, Russian, Uzbek</td>\n",
       "    </tr>\n",
       "    <tr>\n",
       "      <th>4</th>\n",
       "      <td>Queens</td>\n",
       "      <td>Howard Beach; Ozone Park</td>\n",
       "      <td>Italian</td>\n",
       "    </tr>\n",
       "  </tbody>\n",
       "</table>\n",
       "</div>"
      ],
      "text/plain": [
       "  Borough                                Neighborhood  \\\n",
       "0  Queens                                     Astoria   \n",
       "1  Queens                                   Bellerose   \n",
       "2  Queens                                    Flushing   \n",
       "3  Queens  Forest Hills; Kew Gardens Hills; Rego Park   \n",
       "4  Queens                    Howard Beach; Ozone Park   \n",
       "\n",
       "                                             Cuisine  \n",
       "0  Greek, Italian, Eastern European, Brazilian, E...  \n",
       "1                                  Indian, Pakistani  \n",
       "2                                    Chinese, Korean  \n",
       "3                             Jewish, Russian, Uzbek  \n",
       "4                                            Italian  "
      ]
     },
     "execution_count": 45,
     "metadata": {},
     "output_type": "execute_result"
    }
   ],
   "source": [
    "Queens_data = Food[Food['Borough'] == 'Queens'].reset_index(drop=True)\n",
    "Queens_data.head()"
   ]
  },
  {
   "cell_type": "code",
   "execution_count": 46,
   "metadata": {},
   "outputs": [
    {
     "data": {
      "text/html": [
       "<div>\n",
       "<style scoped>\n",
       "    .dataframe tbody tr th:only-of-type {\n",
       "        vertical-align: middle;\n",
       "    }\n",
       "\n",
       "    .dataframe tbody tr th {\n",
       "        vertical-align: top;\n",
       "    }\n",
       "\n",
       "    .dataframe thead th {\n",
       "        text-align: right;\n",
       "    }\n",
       "</style>\n",
       "<table border=\"1\" class=\"dataframe\">\n",
       "  <thead>\n",
       "    <tr style=\"text-align: right;\">\n",
       "      <th></th>\n",
       "      <th>Cuisine</th>\n",
       "    </tr>\n",
       "  </thead>\n",
       "  <tbody>\n",
       "    <tr>\n",
       "      <th>0</th>\n",
       "      <td>Greek, Italian, Eastern European, Brazilian, E...</td>\n",
       "    </tr>\n",
       "    <tr>\n",
       "      <th>1</th>\n",
       "      <td>Indian, Pakistani</td>\n",
       "    </tr>\n",
       "    <tr>\n",
       "      <th>2</th>\n",
       "      <td>Chinese, Korean</td>\n",
       "    </tr>\n",
       "    <tr>\n",
       "      <th>3</th>\n",
       "      <td>Jewish, Russian, Uzbek</td>\n",
       "    </tr>\n",
       "    <tr>\n",
       "      <th>4</th>\n",
       "      <td>Italian</td>\n",
       "    </tr>\n",
       "    <tr>\n",
       "      <th>5</th>\n",
       "      <td>German, Polish</td>\n",
       "    </tr>\n",
       "    <tr>\n",
       "      <th>6</th>\n",
       "      <td>Indian, Pakistani, Bangladeshi, Colombian, Ecu...</td>\n",
       "    </tr>\n",
       "    <tr>\n",
       "      <th>7</th>\n",
       "      <td>Bangladeshi, Caribbean, African-American, Afri...</td>\n",
       "    </tr>\n",
       "    <tr>\n",
       "      <th>8</th>\n",
       "      <td>Arab, Chinese, Italian</td>\n",
       "    </tr>\n",
       "    <tr>\n",
       "      <th>9</th>\n",
       "      <td>Indian, Guyanese, West Indian, Pakistani, Bang...</td>\n",
       "    </tr>\n",
       "    <tr>\n",
       "      <th>10</th>\n",
       "      <td>Irish, Jewish</td>\n",
       "    </tr>\n",
       "    <tr>\n",
       "      <th>11</th>\n",
       "      <td>Irish, Dominican, Mexican, Guyanese</td>\n",
       "    </tr>\n",
       "    <tr>\n",
       "      <th>12</th>\n",
       "      <td>Filipino, Irish, Mexican, Tibetan, Romanian</td>\n",
       "    </tr>\n",
       "  </tbody>\n",
       "</table>\n",
       "</div>"
      ],
      "text/plain": [
       "                                              Cuisine\n",
       "0   Greek, Italian, Eastern European, Brazilian, E...\n",
       "1                                   Indian, Pakistani\n",
       "2                                     Chinese, Korean\n",
       "3                              Jewish, Russian, Uzbek\n",
       "4                                             Italian\n",
       "5                                      German, Polish\n",
       "6   Indian, Pakistani, Bangladeshi, Colombian, Ecu...\n",
       "7   Bangladeshi, Caribbean, African-American, Afri...\n",
       "8                              Arab, Chinese, Italian\n",
       "9   Indian, Guyanese, West Indian, Pakistani, Bang...\n",
       "10                                      Irish, Jewish\n",
       "11                Irish, Dominican, Mexican, Guyanese\n",
       "12        Filipino, Irish, Mexican, Tibetan, Romanian"
      ]
     },
     "execution_count": 46,
     "metadata": {},
     "output_type": "execute_result"
    }
   ],
   "source": [
    "Q_CUISINE_WC = Queens_data[['Cuisine']]\n",
    "Q_CUISINE_WC"
   ]
  },
  {
   "cell_type": "code",
   "execution_count": 47,
   "metadata": {},
   "outputs": [],
   "source": [
    "Q_CUISINE_WC.to_csv('Q_CUISINE.txt', sep=',', index=False)"
   ]
  },
  {
   "cell_type": "code",
   "execution_count": 48,
   "metadata": {},
   "outputs": [],
   "source": [
    "Q_CUISINE_WC = open('Q_CUISINE.txt', 'r').read()"
   ]
  },
  {
   "cell_type": "code",
   "execution_count": 49,
   "metadata": {},
   "outputs": [],
   "source": [
    "stopwords = set(STOPWORDS)"
   ]
  },
  {
   "cell_type": "code",
   "execution_count": 50,
   "metadata": {},
   "outputs": [
    {
     "data": {
      "text/plain": [
       "<wordcloud.wordcloud.WordCloud at 0x7f6cb1a2e748>"
      ]
     },
     "execution_count": 50,
     "metadata": {},
     "output_type": "execute_result"
    }
   ],
   "source": [
    "# start a word cloud object\n",
    "Q_CUISINE_NYC = WordCloud(\n",
    "    background_color='white',\n",
    "    max_words=2000,\n",
    "    stopwords=stopwords\n",
    ")\n",
    "\n",
    "# generate the word cloud\n",
    "Q_CUISINE_NYC.generate(Q_CUISINE_WC)"
   ]
  },
  {
   "cell_type": "code",
   "execution_count": 52,
   "metadata": {},
   "outputs": [
    {
     "data": {
      "image/png": "[encoded data removed]",
      "text/plain": [
       "<Figure size 432x288 with 1 Axes>"
      ]
     },
     "metadata": {
      "needs_background": "light"
     },
     "output_type": "display_data"
    },
    {
     "data": {
      "text/plain": [
       "<Figure size 2160x3240 with 0 Axes>"
      ]
     },
     "metadata": {},
     "output_type": "display_data"
    }
   ],
   "source": [
    "# display the word cloud\n",
    "plt.imshow(Q_CUISINE_NYC, interpolation='bilinear')\n",
    "plt.axis('off')\n",
    "\n",
    "fig = plt.figure()\n",
    "fig.set_figwidth(30)\n",
    "fig.set_figheight(45)\n",
    "\n",
    "plt.show()"
   ]
  },
  {
   "cell_type": "markdown",
   "metadata": {},
   "source": [
    "**Let's create a word cloud of Manhattan cuisine**"
   ]
  },
  {
   "cell_type": "code",
   "execution_count": 54,
   "metadata": {},
   "outputs": [
    {
     "data": {
      "text/html": [
       "<div>\n",
       "<style scoped>\n",
       "    .dataframe tbody tr th:only-of-type {\n",
       "        vertical-align: middle;\n",
       "    }\n",
       "\n",
       "    .dataframe tbody tr th {\n",
       "        vertical-align: top;\n",
       "    }\n",
       "\n",
       "    .dataframe thead th {\n",
       "        text-align: right;\n",
       "    }\n",
       "</style>\n",
       "<table border=\"1\" class=\"dataframe\">\n",
       "  <thead>\n",
       "    <tr style=\"text-align: right;\">\n",
       "      <th></th>\n",
       "      <th>Borough</th>\n",
       "      <th>Neighborhood</th>\n",
       "      <th>Cuisine</th>\n",
       "    </tr>\n",
       "  </thead>\n",
       "  <tbody>\n",
       "    <tr>\n",
       "      <th>0</th>\n",
       "      <td>Manhattan</td>\n",
       "      <td>Chinatown</td>\n",
       "      <td>Chinese, Vietnamese</td>\n",
       "    </tr>\n",
       "    <tr>\n",
       "      <th>1</th>\n",
       "      <td>Manhattan</td>\n",
       "      <td>East Harlem</td>\n",
       "      <td>Puerto Rican, Mexican, Dominican, Chinese-Cuba...</td>\n",
       "    </tr>\n",
       "    <tr>\n",
       "      <th>2</th>\n",
       "      <td>Manhattan</td>\n",
       "      <td>East Village</td>\n",
       "      <td>Japanese, Korean, Indian, Ukrainian</td>\n",
       "    </tr>\n",
       "    <tr>\n",
       "      <th>3</th>\n",
       "      <td>Manhattan</td>\n",
       "      <td>Greenwich Village</td>\n",
       "      <td>Italian, Middle Eastern</td>\n",
       "    </tr>\n",
       "    <tr>\n",
       "      <th>4</th>\n",
       "      <td>Manhattan</td>\n",
       "      <td>Harlem</td>\n",
       "      <td>Italian, African-American, Latin American, Wes...</td>\n",
       "    </tr>\n",
       "  </tbody>\n",
       "</table>\n",
       "</div>"
      ],
      "text/plain": [
       "     Borough       Neighborhood  \\\n",
       "0  Manhattan          Chinatown   \n",
       "1  Manhattan        East Harlem   \n",
       "2  Manhattan       East Village   \n",
       "3  Manhattan  Greenwich Village   \n",
       "4  Manhattan             Harlem   \n",
       "\n",
       "                                             Cuisine  \n",
       "0                                Chinese, Vietnamese  \n",
       "1  Puerto Rican, Mexican, Dominican, Chinese-Cuba...  \n",
       "2                Japanese, Korean, Indian, Ukrainian  \n",
       "3                            Italian, Middle Eastern  \n",
       "4  Italian, African-American, Latin American, Wes...  "
      ]
     },
     "execution_count": 54,
     "metadata": {},
     "output_type": "execute_result"
    }
   ],
   "source": [
    "Manhattan_data = Food[Food['Borough'] == 'Manhattan'].reset_index(drop=True)\n",
    "Manhattan_data.head()"
   ]
  },
  {
   "cell_type": "code",
   "execution_count": 55,
   "metadata": {},
   "outputs": [
    {
     "data": {
      "text/html": [
       "<div>\n",
       "<style scoped>\n",
       "    .dataframe tbody tr th:only-of-type {\n",
       "        vertical-align: middle;\n",
       "    }\n",
       "\n",
       "    .dataframe tbody tr th {\n",
       "        vertical-align: top;\n",
       "    }\n",
       "\n",
       "    .dataframe thead th {\n",
       "        text-align: right;\n",
       "    }\n",
       "</style>\n",
       "<table border=\"1\" class=\"dataframe\">\n",
       "  <thead>\n",
       "    <tr style=\"text-align: right;\">\n",
       "      <th></th>\n",
       "      <th>Cuisine</th>\n",
       "    </tr>\n",
       "  </thead>\n",
       "  <tbody>\n",
       "    <tr>\n",
       "      <th>0</th>\n",
       "      <td>Chinese, Vietnamese</td>\n",
       "    </tr>\n",
       "    <tr>\n",
       "      <th>1</th>\n",
       "      <td>Puerto Rican, Mexican, Dominican, Chinese-Cuba...</td>\n",
       "    </tr>\n",
       "    <tr>\n",
       "      <th>2</th>\n",
       "      <td>Japanese, Korean, Indian, Ukrainian</td>\n",
       "    </tr>\n",
       "    <tr>\n",
       "      <th>3</th>\n",
       "      <td>Italian, Middle Eastern</td>\n",
       "    </tr>\n",
       "    <tr>\n",
       "      <th>4</th>\n",
       "      <td>Italian, African-American, Latin American, Wes...</td>\n",
       "    </tr>\n",
       "    <tr>\n",
       "      <th>5</th>\n",
       "      <td>Korean</td>\n",
       "    </tr>\n",
       "    <tr>\n",
       "      <th>6</th>\n",
       "      <td>Australian</td>\n",
       "    </tr>\n",
       "    <tr>\n",
       "      <th>7</th>\n",
       "      <td>Italian</td>\n",
       "    </tr>\n",
       "    <tr>\n",
       "      <th>8</th>\n",
       "      <td>Puerto Rican, Jewish, Italian, Latin American</td>\n",
       "    </tr>\n",
       "    <tr>\n",
       "      <th>9</th>\n",
       "      <td>Indian, Pakistani, Bangladeshi</td>\n",
       "    </tr>\n",
       "    <tr>\n",
       "      <th>10</th>\n",
       "      <td>Jewish, Chinese-Latino</td>\n",
       "    </tr>\n",
       "    <tr>\n",
       "      <th>11</th>\n",
       "      <td>Dominican, Puerto Rican, Italian, Jewish</td>\n",
       "    </tr>\n",
       "    <tr>\n",
       "      <th>12</th>\n",
       "      <td>German, Czech, Hungarian</td>\n",
       "    </tr>\n",
       "  </tbody>\n",
       "</table>\n",
       "</div>"
      ],
      "text/plain": [
       "                                              Cuisine\n",
       "0                                 Chinese, Vietnamese\n",
       "1   Puerto Rican, Mexican, Dominican, Chinese-Cuba...\n",
       "2                 Japanese, Korean, Indian, Ukrainian\n",
       "3                             Italian, Middle Eastern\n",
       "4   Italian, African-American, Latin American, Wes...\n",
       "5                                              Korean\n",
       "6                                          Australian\n",
       "7                                             Italian\n",
       "8       Puerto Rican, Jewish, Italian, Latin American\n",
       "9                      Indian, Pakistani, Bangladeshi\n",
       "10                             Jewish, Chinese-Latino\n",
       "11           Dominican, Puerto Rican, Italian, Jewish\n",
       "12                           German, Czech, Hungarian"
      ]
     },
     "execution_count": 55,
     "metadata": {},
     "output_type": "execute_result"
    }
   ],
   "source": [
    "MN_CUISINE_WC = Manhattan_data[['Cuisine']]\n",
    "MN_CUISINE_WC"
   ]
  },
  {
   "cell_type": "code",
   "execution_count": 56,
   "metadata": {},
   "outputs": [],
   "source": [
    "MN_CUISINE_WC.to_csv('MN_CUISINE.txt', sep=',', index=False)"
   ]
  },
  {
   "cell_type": "code",
   "execution_count": 57,
   "metadata": {},
   "outputs": [],
   "source": [
    "MN_CUISINE_WC = open('MN_CUISINE.txt', 'r').read()"
   ]
  },
  {
   "cell_type": "code",
   "execution_count": 58,
   "metadata": {},
   "outputs": [],
   "source": [
    "stopwords = set(STOPWORDS)"
   ]
  },
  {
   "cell_type": "code",
   "execution_count": 59,
   "metadata": {},
   "outputs": [
    {
     "data": {
      "text/plain": [
       "<wordcloud.wordcloud.WordCloud at 0x7f6cb1b07588>"
      ]
     },
     "execution_count": 59,
     "metadata": {},
     "output_type": "execute_result"
    }
   ],
   "source": [
    "# start a word cloud object\n",
    "MN_CUISINE_NYC = WordCloud(\n",
    "    background_color='white',\n",
    "    max_words=2000,\n",
    "    stopwords=stopwords\n",
    ")\n",
    "\n",
    "MN_CUISINE_NYC.generate(MN_CUISINE_WC)"
   ]
  },
  {
   "cell_type": "code",
   "execution_count": 60,
   "metadata": {},
   "outputs": [
    {
     "data": {
      "image/png": "[encoded data removed]",
      "text/plain": [
       "<Figure size 432x288 with 1 Axes>"
      ]
     },
     "metadata": {
      "needs_background": "light"
     },
     "output_type": "display_data"
    },
    {
     "data": {
      "text/plain": [
       "<Figure size 2160x3240 with 0 Axes>"
      ]
     },
     "metadata": {},
     "output_type": "display_data"
    }
   ],
   "source": [
    "# display the word cloud\n",
    "plt.imshow(MN_CUISINE_NYC, interpolation='bilinear')\n",
    "plt.axis('off')\n",
    "\n",
    "fig = plt.figure()\n",
    "fig.set_figwidth(30)\n",
    "fig.set_figheight(45)\n",
    "\n",
    "plt.show()"
   ]
  },
  {
   "cell_type": "markdown",
   "metadata": {},
   "source": [
    "**Let's create a word cloud of Bronx cuisine**"
   ]
  },
  {
   "cell_type": "code",
   "execution_count": 61,
   "metadata": {},
   "outputs": [
    {
     "data": {
      "text/html": [
       "<div>\n",
       "<style scoped>\n",
       "    .dataframe tbody tr th:only-of-type {\n",
       "        vertical-align: middle;\n",
       "    }\n",
       "\n",
       "    .dataframe tbody tr th {\n",
       "        vertical-align: top;\n",
       "    }\n",
       "\n",
       "    .dataframe thead th {\n",
       "        text-align: right;\n",
       "    }\n",
       "</style>\n",
       "<table border=\"1\" class=\"dataframe\">\n",
       "  <thead>\n",
       "    <tr style=\"text-align: right;\">\n",
       "      <th></th>\n",
       "      <th>Borough</th>\n",
       "      <th>Neighborhood</th>\n",
       "      <th>Cuisine</th>\n",
       "    </tr>\n",
       "  </thead>\n",
       "  <tbody>\n",
       "    <tr>\n",
       "      <th>0</th>\n",
       "      <td>The Bronx</td>\n",
       "      <td>Bedford Park</td>\n",
       "      <td>Mexican, Puerto Rican, Dominican, Korean</td>\n",
       "    </tr>\n",
       "    <tr>\n",
       "      <th>1</th>\n",
       "      <td>The Bronx</td>\n",
       "      <td>Belmont</td>\n",
       "      <td>Italian, Albanian</td>\n",
       "    </tr>\n",
       "    <tr>\n",
       "      <th>2</th>\n",
       "      <td>The Bronx</td>\n",
       "      <td>City Island</td>\n",
       "      <td>Italian, Seafood</td>\n",
       "    </tr>\n",
       "    <tr>\n",
       "      <th>3</th>\n",
       "      <td>The Bronx</td>\n",
       "      <td>Morris Park</td>\n",
       "      <td>Italian, Albanian</td>\n",
       "    </tr>\n",
       "    <tr>\n",
       "      <th>4</th>\n",
       "      <td>The Bronx</td>\n",
       "      <td>Norwood</td>\n",
       "      <td>Filipino</td>\n",
       "    </tr>\n",
       "  </tbody>\n",
       "</table>\n",
       "</div>"
      ],
      "text/plain": [
       "     Borough  Neighborhood                                   Cuisine\n",
       "0  The Bronx  Bedford Park  Mexican, Puerto Rican, Dominican, Korean\n",
       "1  The Bronx       Belmont                         Italian, Albanian\n",
       "2  The Bronx   City Island                          Italian, Seafood\n",
       "3  The Bronx   Morris Park                         Italian, Albanian\n",
       "4  The Bronx       Norwood                                 Filipino "
      ]
     },
     "execution_count": 61,
     "metadata": {},
     "output_type": "execute_result"
    }
   ],
   "source": [
    "Bronx_data = Food[Food['Borough'] == 'The Bronx'].reset_index(drop=True)\n",
    "Bronx_data.head()"
   ]
  },
  {
   "cell_type": "code",
   "execution_count": 62,
   "metadata": {},
   "outputs": [
    {
     "data": {
      "text/html": [
       "<div>\n",
       "<style scoped>\n",
       "    .dataframe tbody tr th:only-of-type {\n",
       "        vertical-align: middle;\n",
       "    }\n",
       "\n",
       "    .dataframe tbody tr th {\n",
       "        vertical-align: top;\n",
       "    }\n",
       "\n",
       "    .dataframe thead th {\n",
       "        text-align: right;\n",
       "    }\n",
       "</style>\n",
       "<table border=\"1\" class=\"dataframe\">\n",
       "  <thead>\n",
       "    <tr style=\"text-align: right;\">\n",
       "      <th></th>\n",
       "      <th>Cuisine</th>\n",
       "    </tr>\n",
       "  </thead>\n",
       "  <tbody>\n",
       "    <tr>\n",
       "      <th>0</th>\n",
       "      <td>Mexican, Puerto Rican, Dominican, Korean</td>\n",
       "    </tr>\n",
       "    <tr>\n",
       "      <th>1</th>\n",
       "      <td>Italian, Albanian</td>\n",
       "    </tr>\n",
       "    <tr>\n",
       "      <th>2</th>\n",
       "      <td>Italian, Seafood</td>\n",
       "    </tr>\n",
       "    <tr>\n",
       "      <th>3</th>\n",
       "      <td>Italian, Albanian</td>\n",
       "    </tr>\n",
       "    <tr>\n",
       "      <th>4</th>\n",
       "      <td>Filipino</td>\n",
       "    </tr>\n",
       "    <tr>\n",
       "      <th>5</th>\n",
       "      <td>Jewish</td>\n",
       "    </tr>\n",
       "    <tr>\n",
       "      <th>6</th>\n",
       "      <td>Puerto Rican, Dominican</td>\n",
       "    </tr>\n",
       "    <tr>\n",
       "      <th>7</th>\n",
       "      <td>Jamaican, West Indian</td>\n",
       "    </tr>\n",
       "    <tr>\n",
       "      <th>8</th>\n",
       "      <td>Irish</td>\n",
       "    </tr>\n",
       "  </tbody>\n",
       "</table>\n",
       "</div>"
      ],
      "text/plain": [
       "                                    Cuisine\n",
       "0  Mexican, Puerto Rican, Dominican, Korean\n",
       "1                         Italian, Albanian\n",
       "2                          Italian, Seafood\n",
       "3                         Italian, Albanian\n",
       "4                                 Filipino \n",
       "5                                    Jewish\n",
       "6                   Puerto Rican, Dominican\n",
       "7                     Jamaican, West Indian\n",
       "8                                     Irish"
      ]
     },
     "execution_count": 62,
     "metadata": {},
     "output_type": "execute_result"
    }
   ],
   "source": [
    "BX_CUISINE_WC = Bronx_data[['Cuisine']]\n",
    "BX_CUISINE_WC"
   ]
  },
  {
   "cell_type": "code",
   "execution_count": 63,
   "metadata": {},
   "outputs": [],
   "source": [
    "BX_CUISINE_WC.to_csv('BX_CUISINE.txt', sep=',', index=False)"
   ]
  },
  {
   "cell_type": "code",
   "execution_count": 64,
   "metadata": {},
   "outputs": [],
   "source": [
    "BX_CUISINE_WC = open('BX_CUISINE.txt', 'r').read()"
   ]
  },
  {
   "cell_type": "code",
   "execution_count": 65,
   "metadata": {},
   "outputs": [],
   "source": [
    "stopwords = set(STOPWORDS)"
   ]
  },
  {
   "cell_type": "code",
   "execution_count": 66,
   "metadata": {},
   "outputs": [
    {
     "data": {
      "text/plain": [
       "<wordcloud.wordcloud.WordCloud at 0x7f6cb1a354e0>"
      ]
     },
     "execution_count": 66,
     "metadata": {},
     "output_type": "execute_result"
    }
   ],
   "source": [
    "# start a word cloud object\n",
    "BX_CUISINE_NYC = WordCloud(\n",
    "    background_color='white',\n",
    "    max_words=2000,\n",
    "    stopwords=stopwords\n",
    ")\n",
    "\n",
    "# generate the word cloud\n",
    "BX_CUISINE_NYC.generate(BX_CUISINE_WC)"
   ]
  },
  {
   "cell_type": "code",
   "execution_count": 67,
   "metadata": {},
   "outputs": [
    {
     "data": {
      "image/png": "[encoded data removed]",
      "text/plain": [
       "<Figure size 432x288 with 1 Axes>"
      ]
     },
     "metadata": {
      "needs_background": "light"
     },
     "output_type": "display_data"
    },
    {
     "data": {
      "text/plain": [
       "<Figure size 2160x3240 with 0 Axes>"
      ]
     },
     "metadata": {},
     "output_type": "display_data"
    }
   ],
   "source": [
    "# display the word cloud\n",
    "plt.imshow(BX_CUISINE_NYC, interpolation='bilinear')\n",
    "plt.axis('off')\n",
    "\n",
    "fig = plt.figure()\n",
    "fig.set_figwidth(30)\n",
    "fig.set_figheight(45)\n",
    "\n",
    "plt.show()"
   ]
  },
  {
   "cell_type": "code",
   "execution_count": null,
   "metadata": {},
   "outputs": [],
   "source": []
  }
 ],
 "metadata": {
  "kernelspec": {
   "display_name": "Python",
   "language": "python",
   "name": "conda-env-python-py"
  },
  "language_info": {
   "codemirror_mode": {
    "name": "ipython",
    "version": 3
   },
   "file_extension": ".py",
   "mimetype": "text/x-python",
   "name": "python",
   "nbconvert_exporter": "python",
   "pygments_lexer": "ipython3",
   "version": "3.6.7"
  }
 },
 "nbformat": 4,
 "nbformat_minor": 4
}
